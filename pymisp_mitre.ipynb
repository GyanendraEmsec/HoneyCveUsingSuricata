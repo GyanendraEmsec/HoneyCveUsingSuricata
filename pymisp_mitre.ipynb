{
 "cells": [
  {
   "cell_type": "code",
   "execution_count": null,
   "metadata": {},
   "outputs": [],
   "source": [
    "import requests\n",
    "\n",
    "url = \"https://134.209.153.83/events/index/searchorg:1\"\n",
    "headers = {\n",
    "    \"Authorization\": \"x2M7pmMvejKD98G5WrPrsfuFGNttzNqWvL6WAqSi\",\n",
    "    \"Accept\": \"application/json\"\n",
    "}\n",
    "\n",
    "response = requests.get(url, headers=headers, verify=False)  # Use verify=False for ignoring SSL certificate verification\n",
    "\n",
    "if response.status_code == 200:\n",
    "    data = response.json()\n",
    "    print(data)\n",
    "else:\n",
    "    print(\"Error:\", response.status_code)\n"
   ]
  },
  {
   "cell_type": "code",
   "execution_count": 9,
   "metadata": {},
   "outputs": [
    {
     "name": "stdout",
     "output_type": "stream",
     "text": [
      "Event Info: 123\n",
      "MITRE ATT&CK Data: {'value': 'Compromise Software Dependencies and Development Tools - T1195.001', 'external_id': ['T1195.001'], 'description': 'Adversaries may manipulate software dependencies and development tools prior to receipt by a final consumer for the purpose of data or system compromise. Applications often depend on external software to function properly. Popular open source projects that are used as dependencies in many applications may be targeted as a means to add malicious code to users of the dependency.(Citation: Trendmicro NPM Compromise)  \\n\\nTargeting may be specific to a desired victim set or may be distributed to a broad set of consumers but only move on to additional tactics on specific victims. ', 'source': 'https://github.com/mitre/cti', 'authors': ['MITRE'], 'version': '27'}\n",
      "\n",
      "Event Info: 123\n",
      "MITRE ATT&CK Data: {'value': 'Accessibility Features - T1015', 'external_id': ['T1015'], 'description': 'Windows contains accessibility features that may be launched with a key combination before a user has logged in (for example, when the user is on the Windows logon screen). An adversary can modify the way these programs are launched to get a command prompt or backdoor without logging in to the system.\\n\\nTwo common accessibility programs are <code>C:\\\\Windows\\\\System32\\\\sethc.exe</code>, launched when the shift key is pressed five times and <code>C:\\\\Windows\\\\System32\\\\utilman.exe</code>, launched when the Windows + U key combination is pressed. The sethc.exe program is often referred to as \"sticky keys\", and has been used by adversaries for unauthenticated access through a remote desktop login screen. (Citation: FireEye Hikit Rootkit)\\n\\nDepending on the version of Windows, an adversary may take advantage of these features in different ways because of code integrity enhancements. In newer versions of Windows, the replaced binary needs to be digitally signed for x64 systems, the binary must reside in <code>%systemdir%\\\\</code>, and it must be protected by Windows File or Resource Protection (WFP/WRP). (Citation: DEFCON2016 Sticky Keys) The debugger method was likely discovered as a potential workaround because it does not require the corresponding accessibility feature binary to be replaced. Examples for both methods:\\n\\nFor simple binary replacement on Windows XP and later as well as and Windows Server 2003/R2 and later, for example, the program (e.g., <code>C:\\\\Windows\\\\System32\\\\utilman.exe</code>) may be replaced with \"cmd.exe\" (or another program that provides backdoor access). Subsequently, pressing the appropriate key combination at the login screen while sitting at the keyboard or when connected over [Remote Desktop Protocol](https://attack.mitre.org/techniques/T1076) will cause the replaced file to be executed with SYSTEM privileges. (Citation: Tilbury 2014)\\n\\nFor the debugger method on Windows Vista and later as well as Windows Server 2008 and later, for example, a Registry key may be modified that configures \"cmd.exe,\" or another program that provides backdoor access, as a \"debugger\" for the accessibility program (e.g., \"utilman.exe\"). After the Registry is modified, pressing the appropriate key combination at the login screen while at the keyboard or when connected with RDP will cause the \"debugger\" program to be executed with SYSTEM privileges. (Citation: Tilbury 2014)\\n\\nOther accessibility features exist that may also be leveraged in a similar fashion: (Citation: DEFCON2016 Sticky Keys)\\n\\n* On-Screen Keyboard: <code>C:\\\\Windows\\\\System32\\\\osk.exe</code>\\n* Magnifier: <code>C:\\\\Windows\\\\System32\\\\Magnify.exe</code>\\n* Narrator: <code>C:\\\\Windows\\\\System32\\\\Narrator.exe</code>\\n* Display Switcher: <code>C:\\\\Windows\\\\System32\\\\DisplaySwitch.exe</code>\\n* App Switcher: <code>C:\\\\Windows\\\\System32\\\\AtBroker.exe</code>', 'source': 'https://github.com/mitre/cti', 'authors': ['MITRE'], 'version': '27'}\n",
      "\n"
     ]
    }
   ],
   "source": [
    "mitre_events = []\n",
    "\n",
    "for event in data:\n",
    "    # Check if the event has GalaxyCluster data\n",
    "    if 'GalaxyCluster' in event:\n",
    "        # Iterate through each GalaxyCluster in the event\n",
    "        for galaxy_cluster in event['GalaxyCluster']:\n",
    "            # Check if the GalaxyCluster type is mitre-attack-pattern\n",
    "            if galaxy_cluster['type'] == 'mitre-attack-pattern':\n",
    "                mitre_data = {\n",
    "                    'value': galaxy_cluster['value'],\n",
    "                    'external_id': galaxy_cluster['meta']['external_id'],\n",
    "                    'description': galaxy_cluster['description'],\n",
    "                    'source': galaxy_cluster['source'],\n",
    "                    'authors': galaxy_cluster['authors'],\n",
    "                    'version': galaxy_cluster['version']\n",
    "                }\n",
    "                # Add the event and MITRE ATT&CK data to the filtered list\n",
    "                mitre_events.append({\n",
    "                    'event_info': event['info'],\n",
    "                    'mitre_data': mitre_data\n",
    "                })\n",
    "\n",
    "for event in mitre_events:\n",
    "    print(\"Event Info:\", event['event_info'])\n",
    "    print(\"MITRE ATT&CK Data:\", event['mitre_data'])\n",
    "    print()\n"
   ]
  }
 ],
 "metadata": {
  "kernelspec": {
   "display_name": ".venv",
   "language": "python",
   "name": "python3"
  },
  "language_info": {
   "codemirror_mode": {
    "name": "ipython",
    "version": 3
   },
   "file_extension": ".py",
   "mimetype": "text/x-python",
   "name": "python",
   "nbconvert_exporter": "python",
   "pygments_lexer": "ipython3",
   "version": "3.10.12"
  }
 },
 "nbformat": 4,
 "nbformat_minor": 2
}
